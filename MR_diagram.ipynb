{
 "cells": [
  {
   "cell_type": "code",
   "execution_count": null,
   "metadata": {},
   "outputs": [],
   "source": [
    "%matplotlib inline\n",
    "import numpy as np\n",
    "import pandas as pd\n",
    "import matplotlib.pyplot as plt\n",
    "from matplotlib.ticker import ScalarFormatter"
   ]
  },
  {
   "cell_type": "code",
   "execution_count": null,
   "metadata": {},
   "outputs": [],
   "source": [
    "settings = {'markersize': 5, 'markeredgecolor': 'none', }"
   ]
  },
  {
   "cell_type": "markdown",
   "metadata": {},
   "source": [
    "### Table of confirmed exoplanets with radius and RV mass"
   ]
  },
  {
   "cell_type": "code",
   "execution_count": null,
   "metadata": {},
   "outputs": [],
   "source": [
    "# Load planets from the Exoplanet Archive with error bars better than 50%\n",
    "all_planets = pd.read_csv('https://exoplanetarchive.ipac.caltech.edu/cgi-bin/nstedAPI/nph-nstedAPI?table=exoplanets&'\n",
    "            'select=pl_name,pl_masse,pl_masseerr1,pl_masseerr2,pl_rade,pl_radeerr1,pl_radeerr2&'\n",
    "            'where=pl_tranflag>0')\n",
    "all_planets = all_planets.dropna()\n",
    "planets = all_planets\n",
    "planets = planets.loc[(planets['pl_masseerr1']/planets['pl_masse']<0.5) | (-planets['pl_masseerr2']/planets['pl_masse']<0.5)]\n",
    "planets = planets.loc[(planets['pl_radeerr1']/planets['pl_rade']<0.5) | (-planets['pl_radeerr2']/planets['pl_rade']<0.5)]"
   ]
  },
  {
   "cell_type": "code",
   "execution_count": null,
   "metadata": {},
   "outputs": [],
   "source": [
    "def plot_planet(mass, radius, mass_err, rad_err, name=None, color='grey', alpha='1.0'):\n",
    "    \"\"\"A function that plots a single planet in the MR diagram\"\"\"\n",
    "    plt.errorbar(mass, radius, xerr=mass_err, yerr=rad_err, fmt='o', color=color, alpha=1.0, **settings)\n",
    "    if name:\n",
    "        plt.text(mass, radius, name, color='k', clip_on=True, verticalalignment='top')\n",
    "\n",
    "def plot_all_planets(planets):\n",
    "    \"\"\"A function that plots (Mass,Radius) with errorbars for all planets in table\"\"\"\n",
    "    plt.errorbar(planets['pl_masse'], planets['pl_rade'], \n",
    "                 xerr=(planets['pl_masseerr2'], -planets['pl_masseerr1']),\n",
    "                 yerr=(planets['pl_radeerr2'], -planets['pl_radeerr1']),\n",
    "                 fmt='o', color='grey', alpha=0.3, **settings)\n",
    "\n",
    "def plot_named_planet(name, color='red'):\n",
    "    \"\"\"A function that plots one planet in the MR diagram\"\"\"\n",
    "    planet = all_planets.loc[all_planets['pl_name'] == name]\n",
    "    if len(planet) == 0:\n",
    "        print('Not found: '+name)\n",
    "        return\n",
    "    plot_planet(planet['pl_masse'], planet['pl_rade'], \n",
    "             (planet['pl_masseerr2'], -planet['pl_masseerr1']),\n",
    "             (planet['pl_radeerr2'], -planet['pl_radeerr1']), \n",
    "             name=planet['pl_name'].values[0], color=color)"
   ]
  },
  {
   "cell_type": "markdown",
   "metadata": {},
   "source": [
    "### Solar system planets"
   ]
  },
  {
   "cell_type": "code",
   "execution_count": null,
   "metadata": {},
   "outputs": [],
   "source": [
    "def plot_solar_system(labels=False):\n",
    "    \"\"\"Plot (Mass,Radius) for all solar system planets\"\"\"\n",
    "    solar_system = [\n",
    "        {'name': 'Mercury', 'mass': 0.0553, 'radius': 0.3829},\n",
    "        {'name': 'Mars',    'mass': 0.107,  'radius': 0.532},\n",
    "        {'name': 'Venus',   'mass': 0.815,  'radius': 0.9499},\n",
    "        {'name': 'Earth',   'mass': 1,      'radius': 1},\n",
    "        {'name': 'Neptune', 'mass': 17.147, 'radius': 3.865},\n",
    "        {'name': 'Uranus',  'mass': 14.536, 'radius': 3.981},\n",
    "        {'name': 'Saturn',  'mass': 95.162, 'radius': 9.14},\n",
    "        {'name': 'Jupiter', 'mass': 317.83, 'radius': 10.97},\n",
    "    ]\n",
    "    for planet in solar_system:\n",
    "        plt.plot(planet['mass'], planet['radius'], '^', color='green', zorder=10, **settings)\n",
    "        if labels:\n",
    "            plt.text(planet['mass'], planet['radius'], planet['name'], clip_on=True, verticalalignment='top', fontsize=8)"
   ]
  },
  {
   "cell_type": "markdown",
   "metadata": {},
   "source": [
    "### Planet composition models"
   ]
  },
  {
   "cell_type": "code",
   "execution_count": null,
   "metadata": {},
   "outputs": [],
   "source": [
    "def plot_model(path, label=None, col=None):\n",
    "    modeldata = pd.read_csv(path, names=('mass', 'radius'), delimiter=r'\\t', engine='python')\n",
    "    plt.plot(modeldata['mass'], modeldata['radius'], label=label, color=col)"
   ]
  },
  {
   "cell_type": "code",
   "execution_count": null,
   "metadata": {},
   "outputs": [],
   "source": [
    "def plot_models():\n",
    "    plot_model('massradius/Earthlike2h300K1mbar.txt', '2% H$_2$ + H$_2$O/rocky', col='palevioletred')\n",
    "    plot_model('massradius/Earthlike2h500K1mbar.txt', col='palevioletred')\n",
    "    plot_model('massradius/Earthlike2h700K1mbar.txt', col='palevioletred')\n",
    "    plot_model('massradius/massradius_100percentH2O_300K_1mbar.txt', '100% H$_2$O', col='blue')\n",
    "    plot_model('massradius/massradius_100percentH2O_500K_1mbar.txt', col='blue')\n",
    "    plot_model('massradius/massradius_100percentH2O_700K_1mbar.txt', col='blue')\n",
    "    plot_model('massradius/massradius_50percentH2O_300K_1mbar.txt', '50% H$_2$O / 50% rocky', col='green')\n",
    "    plot_model('massradius/massradius_50percentH2O_500K_1mbar.txt', col='green')\n",
    "    plot_model('massradius/massradius_50percentH2O_700K_1mbar.txt', col='green')\n",
    "    plot_model('massradius/massradiusmgsio3.txt', '100% MgSiO$_3$ (rock)', col='red')\n",
    "    plot_model('massradius/massradiusEarthlikeRocky.txt', '33% Fe (Earth-like rocky)', col='orange')\n",
    "    plot_model('massradius/massradiusFe.txt', '100% Fe', col='purple')\n",
    "    "
   ]
  },
  {
   "cell_type": "markdown",
   "metadata": {},
   "source": [
    "### Build the plot"
   ]
  },
  {
   "cell_type": "code",
   "execution_count": null,
   "metadata": {},
   "outputs": [],
   "source": [
    "# Set plot size\n",
    "plt.rcParams['figure.figsize'] = (5, 5)\n",
    "plt.rcParams['figure.dpi'] = 150\n",
    "\n",
    "plot_all_planets(planets)\n",
    "plot_solar_system()\n",
    "\n",
    "# Decorate plot\n",
    "plt.xscale('log')\n",
    "plt.gca().xaxis.set_major_formatter(ScalarFormatter())\n",
    "plt.xlabel('Mass ($M_\\oplus$)');\n",
    "plt.ylabel('Radius ($R_\\oplus$)');\n",
    "plt.ylim((0,23))\n",
    "\n",
    "# Uncomment and fill in mass and radius for WASP-52b\n",
    "#plot_planet(<mass>, <radius>, <mass_err>, <rad_err>, color='purple', name='WASP-52 b') \n",
    "\n",
    "# Uncomment to zoom in on rocky planets\n",
    "#plt.xlim((0.5, 55)); plt.ylim((0.8,4.5));\n",
    "#plot_models()\n",
    "#plt.legend(loc='upper left');\n",
    "\n",
    "# Uncomment to plot specific planets\n",
    "#plot_named_planet('K2-18 b')\n",
    "#plot_named_planet('K2-38 b')\n",
    "#plot_named_planet('TRAPPIST-1 b')\n"
   ]
  },
  {
   "cell_type": "code",
   "execution_count": null,
   "metadata": {},
   "outputs": [],
   "source": []
  },
  {
   "cell_type": "code",
   "execution_count": null,
   "metadata": {},
   "outputs": [],
   "source": []
  },
  {
   "cell_type": "code",
   "execution_count": null,
   "metadata": {},
   "outputs": [],
   "source": []
  },
  {
   "cell_type": "code",
   "execution_count": null,
   "metadata": {},
   "outputs": [],
   "source": []
  },
  {
   "cell_type": "code",
   "execution_count": null,
   "metadata": {},
   "outputs": [],
   "source": []
  },
  {
   "cell_type": "code",
   "execution_count": null,
   "metadata": {},
   "outputs": [],
   "source": []
  },
  {
   "cell_type": "code",
   "execution_count": null,
   "metadata": {},
   "outputs": [],
   "source": []
  },
  {
   "cell_type": "code",
   "execution_count": null,
   "metadata": {},
   "outputs": [],
   "source": []
  },
  {
   "cell_type": "code",
   "execution_count": null,
   "metadata": {},
   "outputs": [],
   "source": []
  }
 ],
 "metadata": {
  "kernelspec": {
   "display_name": "Python 3",
   "language": "python",
   "name": "python3"
  },
  "language_info": {
   "codemirror_mode": {
    "name": "ipython",
    "version": 3
   },
   "file_extension": ".py",
   "mimetype": "text/x-python",
   "name": "python",
   "nbconvert_exporter": "python",
   "pygments_lexer": "ipython3",
   "version": "3.7.0"
  }
 },
 "nbformat": 4,
 "nbformat_minor": 2
}
