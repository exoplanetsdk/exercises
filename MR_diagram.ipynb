{
 "cells": [
  {
   "cell_type": "markdown",
   "metadata": {},
   "source": [
    "# Exploring the  Mass-Radius Diagram"
   ]
  },
  {
   "cell_type": "markdown",
   "metadata": {},
   "source": [
    "_Written by René Tronsgaard Rasmussen, DTU Space_\n",
    "\n",
    "__Credits:__\n",
    "Models are from Li Zeng et al.: “Growth Model Interpretation of Planet Size Distribution”. In PNAS, 2019, 116 (20) 9723-9728. [DOI: 10.1073/pnas.181295116](https://www.pnas.org/content/116/20/9723). See also: https://www.cfa.harvard.edu/~lzeng/planetmodels.html"
   ]
  },
  {
   "cell_type": "markdown",
   "metadata": {},
   "source": [
    "### Getting started"
   ]
  },
  {
   "cell_type": "markdown",
   "metadata": {},
   "source": [
    "The mass-radius diagram (as seen in the lecture) is a way to visualize how the compositions varies among the planet population. \n",
    "\n",
    "**Start out by running all cells in this notebook (Shift+Enter) and have a look at the plot!**"
   ]
  },
  {
   "cell_type": "markdown",
   "metadata": {},
   "source": [
    "First we import some packages that we will need later - don't worry, just run it and keep going.."
   ]
  },
  {
   "cell_type": "code",
   "execution_count": null,
   "metadata": {},
   "outputs": [],
   "source": [
    "import os.path\n",
    "import numpy as np\n",
    "import pandas as pd \n",
    "import matplotlib, matplotlib.pyplot as plt, matplotlib.gridspec as gridspec, matplotlib.ticker as ticker\n",
    "import seaborn as sns\n",
    "try:\n",
    "    from astroquery.nasa_exoplanet_archive import NasaExoplanetArchive\n",
    "except ModuleNotFoundError:\n",
    "    !pip install -q astroquery\n",
    "    from astroquery.nasa_exoplanet_archive import NasaExoplanetArchive\n",
    "\n",
    "# matplotlib settings\n",
    "matplotlib.rcParams['figure.figsize'] = [16,10]\n",
    "matplotlib.rcParams['figure.dpi'] = 150  # Change this to get larger plots \n",
    "matplotlib.rcParams['figure.facecolor'] = 'w' \n",
    "matplotlib.rcParams['xtick.top'] = True\n",
    "matplotlib.rcParams['ytick.right'] = True\n",
    "matplotlib.rcParams['xtick.direction'] = 'in'\n",
    "matplotlib.rcParams['ytick.direction'] = 'in'\n",
    "matplotlib.rcParams['xtick.minor.visible'] = True\n",
    "matplotlib.rcParams['ytick.minor.visible'] = True\n",
    "matplotlib.rcParams['font.family'] = 'serif'\n",
    "# Plot decorator\n",
    "def decorate_plot():\n",
    "    plt.xlabel('Mass ($M_\\oplus$)');\n",
    "    plt.ylabel('Radius ($R_\\oplus$)');\n",
    "    plt.xscale('log')\n",
    "    plt.gca().xaxis.set_major_formatter(ticker.FuncFormatter(lambda x, _: '{:g}'.format(x))) # numbers on xaxis"
   ]
  },
  {
   "cell_type": "markdown",
   "metadata": {},
   "source": [
    "### Functions to plot planets\n",
    "Here we define some functions for plotting planets in the mass-radius diagram. For now, just run it, and then maybe come back and have a look later."
   ]
  },
  {
   "cell_type": "code",
   "execution_count": null,
   "metadata": {},
   "outputs": [],
   "source": [
    "def plot_planet(mass, radius, mass_err, rad_err, name=None, color='grey', alpha='1.0'):\n",
    "    \"\"\"A function that plots a single planet in the MR diagram\"\"\"\n",
    "    \n",
    "    # Handle assymmetric error bars\n",
    "    if hasattr(mass_err, '__iter__') and len(mass_err) == 2:\n",
    "        mass_err = [[mass_err[0]], [mass_err[1]]]\n",
    "    if hasattr(rad_err, '__iter__') and len(rad_err) == 2:\n",
    "        rad_err = [[rad_err[0]], [rad_err[1]]]\n",
    "        \n",
    "    # Plot it!\n",
    "    plt.errorbar(mass, radius, xerr=mass_err, yerr=rad_err, \n",
    "                 fmt='o', color=color, alpha=1.0, markersize=5, markeredgecolor='none')\n",
    "\n",
    "    # Add a label next to the point, if keyword \"name\" is set\n",
    "    if name:\n",
    "        plt.text(mass, radius, ' '+name, color='k', clip_on=True, verticalalignment='top', fontsize=8)\n",
    "\n",
    "def plot_named_planet(planets, name, color='red'):\n",
    "    \"\"\"Search for a named planet in the `planets` table and plot it in the MR diagram if it exists\"\"\"\n",
    "    planet = all_planets.loc[all_planets['pl_name'] == name]\n",
    "    if len(planet) == 0:\n",
    "        # If not found: print error message and abort mission\n",
    "        print('Not found: '+name)\n",
    "        return\n",
    "    # Use the function we just defined to plot the planet\n",
    "    planet = planet.iloc[0]\n",
    "    plot_planet(planet['pl_masse'], planet['pl_rade'], \n",
    "             (planet['pl_masseerr2'], -planet['pl_masseerr1']),\n",
    "             (planet['pl_radeerr2'], -planet['pl_radeerr1']), \n",
    "             name=planet['pl_name'], color=color)\n",
    "\n",
    "def plot_all_planets(planets):\n",
    "    \"\"\"A function that plots all planets in table in the mass-radius diagram\"\"\"\n",
    "    plt.errorbar(planets['pl_masse'], planets['pl_rade'], \n",
    "                 xerr=(planets['pl_masseerr2'], -planets['pl_masseerr1']),\n",
    "                 yerr=(planets['pl_radeerr2'], -planets['pl_radeerr1']),\n",
    "                 fmt='o', color='grey', alpha=0.3, markersize=5, markeredgecolor='none')\n",
    "\n",
    "def plot_solar_system(labels=False):\n",
    "    \"\"\"Plot (Mass,Radius) for all solar system planets\"\"\"\n",
    "    solar_system = [\n",
    "        {'name': 'Mercury', 'mass': 0.0553, 'radius': 0.3829},\n",
    "        {'name': 'Mars',    'mass': 0.107,  'radius': 0.532},\n",
    "        {'name': 'Venus',   'mass': 0.815,  'radius': 0.9499},\n",
    "        {'name': 'Earth',   'mass': 1,      'radius': 1},\n",
    "        {'name': 'Neptune', 'mass': 17.147, 'radius': 3.865},\n",
    "        {'name': 'Uranus',  'mass': 14.536, 'radius': 3.981},\n",
    "        {'name': 'Saturn',  'mass': 95.162, 'radius': 9.14},\n",
    "        {'name': 'Jupiter', 'mass': 317.83, 'radius': 10.97},\n",
    "    ]\n",
    "    for planet in solar_system:\n",
    "        plt.plot(planet['mass'], planet['radius'], '^', color='green', zorder=10, markersize=5, markeredgecolor='none')\n",
    "        if labels:\n",
    "            plt.text(planet['mass'], planet['radius'], ' '+planet['name'], clip_on=True, verticalalignment='top', fontsize=8)"
   ]
  },
  {
   "cell_type": "markdown",
   "metadata": {},
   "source": [
    "### Model plotting\n",
    "Here we define functions for plotting planet composition models (lines in the diagram). Again, just run it for now, and come back later if you want to learn what is going on."
   ]
  },
  {
   "cell_type": "code",
   "execution_count": null,
   "metadata": {},
   "outputs": [],
   "source": [
    "models = dict()  # For cache\n",
    "\n",
    "def plot_model(filename, label=None, col=None):\n",
    "    \"\"\"Read a model file and plot it as a colored line\"\"\"\n",
    "    if filename in models.keys():\n",
    "        modeldata = models[filename]\n",
    "    else:\n",
    "        path = 'lmassradius/' + filename\n",
    "        if not os.path.exists(path):\n",
    "            path = 'https://lweb.cfa.harvard.edu/~lzeng/tables/' + filename\n",
    "        modeldata = pd.read_csv(path, names=('mass', 'radius'), delimiter=r'\\t', engine='python')\n",
    "        models[filename] = modeldata\n",
    "    plt.plot(modeldata['mass'], modeldata['radius'], label=label, color=col)\n",
    "\n",
    "def plot_models():\n",
    "    \"\"\"Plot all the models\"\"\"\n",
    "    # You can comment/uncomment lines, and re-run this cell, to disable/enable\n",
    "    \n",
    "    \n",
    "    # 300 K atmospheres:\n",
    "    plot_model('Earthlike2h300K1mbar.txt', '2% H$_2$ + H$_2$O/rocky', col='palevioletred')\n",
    "    plot_model('massradius_100percentH2O_300K_1mbar.txt', '100% H$_2$O', col='blue')\n",
    "    plot_model('massradius_50percentH2O_300K_1mbar.txt', '50% H$_2$O / 50% rocky', col='green')\n",
    "    \n",
    "    # 500 K atmospheres:\n",
    "    plot_model('Earthlike2h500K1mbar.txt', col='palevioletred')\n",
    "    plot_model('massradius_100percentH2O_500K_1mbar.txt', col='blue')\n",
    "    plot_model('massradius_50percentH2O_500K_1mbar.txt', col='green')\n",
    "    \n",
    "    # 700 K atmospheres:\n",
    "    plot_model('Earthlike2h700K1mbar.txt', col='palevioletred')\n",
    "    plot_model('massradius_100percentH2O_700K_1mbar.txt', '100% H$_2$O', col='blue')\n",
    "    plot_model('massradius_50percentH2O_700K_1mbar.txt', '50% H$_2$O / 50% rocky', col='green')\n",
    "    \n",
    "    # Rocky compositions:\n",
    "    plot_model('massradiusmgsio3.txt', '100% MgSiO$_3$ (rock)', col='red')\n",
    "    plot_model('massradiusEarthlikeRocky.txt', '33% Fe (Earth-like rocky)', col='orange')\n",
    "    plot_model('massradiusFe.txt', '100% Fe', col='purple')"
   ]
  },
  {
   "cell_type": "markdown",
   "metadata": {},
   "source": [
    "Functions for plotting lines of equal density of equal gravity. Keep going!"
   ]
  },
  {
   "cell_type": "code",
   "execution_count": null,
   "metadata": {},
   "outputs": [],
   "source": [
    "def plot_density(density, color='wheat'):\n",
    "    \"\"\"Plot an equidensity line, g/cm3\"\"\"\n",
    "    MEarth = 5.972e27 # g\n",
    "    REarth = 6.371e8  # cm\n",
    "    radius = lambda mass, density: (0.23873*mass*MEarth/density)**(1/3)/REarth\n",
    "    mass = np.logspace(-2,5,100)\n",
    "    plt.plot(mass, radius(mass, density), color=color, linestyle='--')\n",
    "    \n",
    "def plot_gravity(gravity, color='wheat'):\n",
    "    \"\"\"Plot an equigravity line, m/s^2\"\"\"\n",
    "    MEarth = 5.972e24 # kg\n",
    "    REarth = 6.371e6  # m\n",
    "    G = 6.67408e-11 # m3/kg/s^2\n",
    "    radius = lambda mass, gravity: (G*mass*MEarth/gravity)**(0.5)/REarth\n",
    "    mass = np.logspace(-2,5,100)\n",
    "    plt.plot(mass, radius(mass, gravity), color=color, linestyle='--')"
   ]
  },
  {
   "cell_type": "markdown",
   "metadata": {},
   "source": [
    "### Table of confirmed exoplanets with radius and RV mass\n",
    "Now let's download a table of all known exoplanets from the [NASA Exoplanet Archive](https://exoplanetarchive.ipac.caltech.edu/). It will take a few seconds, and you can safely ignore the warnings about \"Unrecognized unit\".\n",
    "\n",
    "The columns in the table are Planet Name, Planet Mass (Earth mass units, $M_\\oplus$), Planet Mass error (upper/lower), Planet Radius (Earth Radius units, $R_\\oplus$), Planet radius error (upper/lower), Orbital period (days), Equilibrium Temperature (Kelvin), Insolation flux (Earth insolation units)."
   ]
  },
  {
   "cell_type": "code",
   "execution_count": null,
   "metadata": {},
   "outputs": [],
   "source": [
    "# Load planets from the Exoplanet Archive with error bars better than 50%\n",
    "all_planets = NasaExoplanetArchive().query_criteria(\n",
    "    table=\"ps\", # Planetary systems\n",
    "    select=\"pl_name,pl_masse,pl_masseerr1,pl_masseerr2,pl_rade,pl_radeerr1,pl_radeerr2,pl_orbper,pl_eqt,pl_insol\",\n",
    "    where=\"tran_flag=1 AND default_flag=1\"\n",
    ").to_pandas()\n",
    "planets = all_planets\n",
    "\n",
    "# Discard points without error bars\n",
    "planets = planets[planets['pl_masseerr1'] > 0.001]\n",
    "# Discard points with error bars worse than 50%\n",
    "planets = planets[(planets['pl_masseerr1']/planets['pl_masse']<0.5) & (-planets['pl_masseerr2']/planets['pl_masse']<0.5)]\n",
    "planets = planets[(planets['pl_radeerr1']/planets['pl_rade']<0.5) & (-planets['pl_radeerr2']/planets['pl_rade']<0.5)]\n",
    "# Show table\n",
    "planets"
   ]
  },
  {
   "cell_type": "code",
   "execution_count": null,
   "metadata": {},
   "outputs": [],
   "source": [
    "# Uncomment this if you need to sort the data table\n",
    "#planets.sort_values('pl_masse')"
   ]
  },
  {
   "cell_type": "markdown",
   "metadata": {},
   "source": [
    "### Build the plot\n",
    "Now that we have everything defined, let's start building a Mass-Radius diagram! The simplest version is just to plot all the planets with error bars, mass on the X-axis and radius on the Y-axis:"
   ]
  },
  {
   "cell_type": "code",
   "execution_count": null,
   "metadata": {},
   "outputs": [],
   "source": [
    "plot_all_planets(planets)\n",
    "plot_solar_system(labels=False)\n",
    "decorate_plot()\n",
    "\n",
    "# Set axis limits\n",
    "plt.xlim((0.05, 10000))\n",
    "plt.ylim((0, 23));"
   ]
  },
  {
   "cell_type": "markdown",
   "metadata": {},
   "source": [
    "Pay attention to the X axis - it's logaritmic, meaning that each step you take along the axis is 10 times as big as the previous step. In this way, we can squeeze huge brown dwarfs almost 10,000 times as massive as Earth in the same diagram as Mercury, with a mass 20 times smaller than Earth. \n",
    "\n",
    "Pause for a moment, and see if you can name the solar system planets (green triangles). To see the answer, change `labels=False` to `labels=True` and run the cell again.\n",
    "\n",
    "Now let's add some equidensity lines. Planets with the same bulk density (massefylde) will lie along these lines:"
   ]
  },
  {
   "cell_type": "code",
   "execution_count": null,
   "metadata": {},
   "outputs": [],
   "source": [
    "plot_all_planets(planets)\n",
    "plot_solar_system(labels=True)\n",
    "decorate_plot()\n",
    "\n",
    "# Set axis limits\n",
    "plt.xlim((0.05, 10000))\n",
    "plt.ylim((0, 23));\n",
    "\n",
    "# Add equi-density lines\n",
    "xlim, ylim = plt.xlim(), plt.ylim()  # Save axis limits\n",
    "for density in (.1, .2, .3, .4, .5, .6, .7, .8, .9,\n",
    "                1, 2, 3, 4, 5, 6, 7, 8, 9, 10, 20):\n",
    "    plot_density(density)\n",
    "\n",
    "plt.xlim(xlim); plt.ylim(ylim);  # Restore axis limits"
   ]
  },
  {
   "cell_type": "markdown",
   "metadata": {},
   "source": [
    "The equidensity lines (bright yellow) are increasing from left to right. Also notice that the cluster of small planets (between Earth and Neptune) are concentrated around higher densities while the gas giants (around Saturn and Jupiter) are concentrated around lower densities. In fact, most gaseous planets are puffy enough that they would float on water (if such a large ocean existed).\n",
    "\n",
    "Now, let's zoom in on the small planets (by changing the axis limits) and add some composition models:"
   ]
  },
  {
   "cell_type": "code",
   "execution_count": null,
   "metadata": {},
   "outputs": [],
   "source": [
    "plot_all_planets(planets)\n",
    "plot_solar_system(labels=True)\n",
    "decorate_plot()\n",
    "\n",
    "# Set axis limits to zoom in\n",
    "plt.xlim((0.05, 55)); \n",
    "plt.ylim((0,4.5));\n",
    "\n",
    "# Add equi-density lines\n",
    "for density in (.1, .2, .3, .4, .5, .6, .7, .8, .9,\n",
    "                1, 2, 3, 4, 5, 6, 7, 8, 9, 10, 20):\n",
    "    plot_density(density)\n",
    "\n",
    "# Plot models\n",
    "plot_models()\n",
    "plt.legend(loc='upper left');"
   ]
  },
  {
   "cell_type": "markdown",
   "metadata": {},
   "source": [
    "The colored lines represent different planet compositions. For example, Earth, Venus and Mars all lie on the same composition line (yellow), which is the Earth-like rocky composition with 33% Fe (iron) and 67% rock. Other planets, like Mercury, are denser (more iron with some rock). Multiple lines of same color shows composition at different temperatures. Some lines are overlapping, which means that we cannot always tell if planets are one composition or the other, from the mass and radius alone. How would you find out?\n",
    "\n",
    "Now let's try to look closer at the population of small planets. We can color the background (red) to highlight the concentration of planets across the MR diagram:"
   ]
  },
  {
   "cell_type": "code",
   "execution_count": null,
   "metadata": {},
   "outputs": [],
   "source": [
    "plot_all_planets(planets)\n",
    "plot_solar_system(labels=True)\n",
    "decorate_plot()\n",
    "\n",
    "# Set axis limits to zoom in\n",
    "plt.xlim((0.5, 55)); \n",
    "plt.ylim((0,4.5));\n",
    "\n",
    "# Add equi-density lines\n",
    "for density in (.1, .2, .3, .4, .5, .6, .7, .8, .9,\n",
    "                1, 2, 3, 4, 5, 6, 7, 8, 9, 10, 20):\n",
    "    plot_density(density)\n",
    "\n",
    "# Plot models\n",
    "plot_models()\n",
    "plt.legend(loc='upper left');\n",
    "\n",
    "# Overplot data density\n",
    "import seaborn as sns\n",
    "df = planets[(planets['pl_masse'] < 100) & (planets['pl_rade'] < 6)]\n",
    "sns.kdeplot(x=df['pl_masse'], y=df['pl_rade'], log_scale=False, bw_adjust=0.35, \n",
    "            cmap=\"Reds\", shade=True, levels=100, vmin=0, vmax=1.5);"
   ]
  },
  {
   "cell_type": "markdown",
   "metadata": {},
   "source": [
    "Notice the two \"clumps\" of planets? The space between those is known as the \"Small Planet Radius Gap\" and it was only discovered recently. Note that the small radius planets tend to have higher densities (rocky like Earth, but bigger), while the larger radius planets tend to be more puffy (thick atmospheres like Neptune, but smaller). These planets are known as \"Super-Earths\" and \"mini-Neptunes\", and while they seem to be quite common around other stars, we don't have anything like that in our own solar system. \n",
    "\n",
    "But what about Earth - and the other solar system planets? Are they rare types of planets, or just harder to find? To realize why that could be, can you think of any information that is missing on the MR diagram?"
   ]
  },
  {
   "cell_type": "markdown",
   "metadata": {},
   "source": [
    "Now it's time to plot in some of your own planets - or at least mark their location. Here is an example of how to plot the TRAPPIST planets in the MR diagram. What can you say about the composition of the TRAPPIST-1 planets?"
   ]
  },
  {
   "cell_type": "code",
   "execution_count": null,
   "metadata": {},
   "outputs": [],
   "source": [
    "plot_all_planets(planets)\n",
    "plot_solar_system(labels=True)\n",
    "decorate_plot()\n",
    "\n",
    "# Set axis limits to zoom in\n",
    "plt.xlim((0.5, 55)); \n",
    "plt.ylim((0,4.5));\n",
    "\n",
    "# Add equi-density lines\n",
    "for density in (.1, .2, .3, .4, .5, .6, .7, .8, .9,\n",
    "                1, 2, 3, 4, 5, 6, 7, 8, 9, 10, 20):\n",
    "    plot_density(density)\n",
    "\n",
    "# Plot models\n",
    "plot_models()\n",
    "plt.legend(loc='upper left');\n",
    "\n",
    "# Zoom in on TRAPPIST system\n",
    "plt.xlim((0.3, 2)); plt.ylim((0.7,1.2));\n",
    "plot_named_planet(planets, 'TRAPPIST-1 b', color='orange')\n",
    "plot_named_planet(planets, 'TRAPPIST-1 c', color='orange')\n",
    "plot_named_planet(planets, 'TRAPPIST-1 d', color='orange')\n",
    "plot_named_planet(planets, 'TRAPPIST-1 e', color='orange')\n",
    "plot_named_planet(planets, 'TRAPPIST-1 f', color='orange')\n",
    "plot_named_planet(planets, 'TRAPPIST-1 g', color='orange')"
   ]
  },
  {
   "cell_type": "markdown",
   "metadata": {},
   "source": [
    "Now try plotting your own planet - remember to change the limits of the X and Y axis if necessary:"
   ]
  },
  {
   "cell_type": "code",
   "execution_count": null,
   "metadata": {},
   "outputs": [],
   "source": [
    "plot_all_planets(planets)\n",
    "plot_solar_system(labels=True)\n",
    "decorate_plot()\n",
    "\n",
    "# Set axis limits to zoom in\n",
    "plt.xlim((0.5, 55)); \n",
    "plt.ylim((0,4.5));\n",
    "\n",
    "# Add equi-density lines\n",
    "for density in (.1, .2, .3, .4, .5, .6, .7, .8, .9,\n",
    "                1, 2, 3, 4, 5, 6, 7, 8, 9, 10, 20):\n",
    "    plot_density(density)\n",
    "\n",
    "# Plot models\n",
    "plot_models()\n",
    "plt.legend(loc='upper left');\n",
    "\n",
    "# Plot your own planet (change the axis limits above if necessary)\n",
    "plot_planet(<mass>, <radius>, <mass_err>, <rad_err>, color='purple', name='<Name>')  # Insert values here"
   ]
  },
  {
   "cell_type": "markdown",
   "metadata": {},
   "source": [
    "#### What can we learn from this diagram?:\n",
    " Many things! One application of the mass-radius diagram is that it can help identify planets that could be similar to Earth. The 'habitable zone' is often used in discussion about life in the universe and is defined as the region around a star where a planet could sustain liquid water on its surface. However, just because a planet is in the habitable zone does not mean that the planet is similar to Earth. A list of exoplanets within the habitable zone of their host star are listed here:  http://www.openexoplanetcatalogue.com/systems/?filters=habitable \n"  
    "- Look at the list of habitable zone planets. Look at the planets with both mass and radius estimates. Which ones seem more Earth-like? \n"
    "- Many planets have radius measurments, but not mass measurements, or vis-versa. How well do you think we could differentiate between rocky and gaseous planets with only one measurement? \n"
    "- Determine which region of the mass-radius diagram you think planets with life could exist. \n"
   ]
  },
  {
   "cell_type": "code",
   "execution_count": null,
   "metadata": {},
   "outputs": [],
   "source": []
  }
 ],
 "metadata": {
  "kernelspec": {
   "display_name": "Python 3",
   "language": "python",
   "name": "python3"
  },
  "language_info": {
   "codemirror_mode": {
    "name": "ipython",
    "version": 3
   },
   "file_extension": ".py",
   "mimetype": "text/x-python",
   "name": "python",
   "nbconvert_exporter": "python",
   "pygments_lexer": "ipython3",
   "version": "3.7.7"
  },
  "toc": {
   "base_numbering": 1,
   "nav_menu": {},
   "number_sections": false,
   "sideBar": true,
   "skip_h1_title": false,
   "title_cell": "Table of Contents",
   "title_sidebar": "Contents",
   "toc_cell": false,
   "toc_position": {},
   "toc_section_display": true,
   "toc_window_display": false
  }
 },
 "nbformat": 4,
 "nbformat_minor": 2
}
